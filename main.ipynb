{
 "cells": [
  {
   "cell_type": "code",
   "execution_count": 30,
   "metadata": {},
   "outputs": [],
   "source": [
    "import cv2\n",
    "import os\n",
    "import numpy as np\n",
    "\n",
    "dir = \"./smaller-data\"\n",
    "for filename in os.listdir(dir):\n",
    "    filepath = (os.path.join(dir, filename))\n",
    "    name = filename.split(\".\")\n",
    "    name = name[0]\n",
    "\n",
    "    videoFile = np.load(filepath)\n",
    "    colorImages = videoFile['colorImages']\n",
    "    boundingBox = videoFile['boundingBox']\n",
    "    landmarks2D = videoFile['landmarks2D']\n",
    "\n",
    "    height = colorImages.shape[0]\n",
    "    width = colorImages.shape[1]\n",
    "    for i in range(colorImages.shape[-1]):\n",
    "        viss = []\n",
    "        img = np.zeros((height, width, 3), np.uint8)\n",
    "        img1 = colorImages[:, :, :, i]\n",
    "        img1 = cv2.cvtColor(img1, cv2.COLOR_BGR2RGB)\n",
    "\n",
    "        bb = boundingBox[:, :, i]\n",
    "        for mark in landmarks2D[:, :, i]:\n",
    "            cv2.circle(img, (int(mark[0]), int(mark[1])), 1, (255, 255, 255))\n",
    "\n",
    "        bbox_true = [int(bb[0, 0]), int(bb[0, 1]), int(bb[3, 0]), int(bb[3, 1])]\n",
    "        cv2.rectangle(img,\n",
    "                        (int(bb[0, 0]), int(bb[0, 1])), \n",
    "                        (int(bb[3, 0]), int(bb[3, 1])),\n",
    "                        (0, 0, 255), 1)\n",
    "\n",
    "        combine = np.hstack((img, img1))\n",
    "        cv2.imshow('video', combine)\n",
    "        c = cv2.waitKey(1)\n",
    "        if c == 27:\n",
    "            break\n",
    "    cv2.destroyAllWindows()"
   ]
  },
  {
   "cell_type": "code",
   "execution_count": 31,
   "metadata": {},
   "outputs": [
    {
     "name": "stdout",
     "output_type": "stream",
     "text": [
      "Error opening video stream or file\n",
      "0\n"
     ]
    }
   ],
   "source": []
  }
 ],
 "metadata": {
  "kernelspec": {
   "display_name": "Python 3",
   "language": "python",
   "name": "python3"
  },
  "language_info": {
   "codemirror_mode": {
    "name": "ipython",
    "version": 3
   },
   "file_extension": ".py",
   "mimetype": "text/x-python",
   "name": "python",
   "nbconvert_exporter": "python",
   "pygments_lexer": "ipython3",
   "version": "3.10.0"
  },
  "orig_nbformat": 4
 },
 "nbformat": 4,
 "nbformat_minor": 2
}
